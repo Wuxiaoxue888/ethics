{
 "cells": [
  {
   "cell_type": "code",
   "execution_count": 1,
   "id": "644ed656-0639-4a64-b121-11cd3ec4cf56",
   "metadata": {},
   "outputs": [
    {
     "name": "stdout",
     "output_type": "stream",
     "text": [
      "WARNING:tensorflow:From C:\\Users\\leohj\\miniconda3\\envs\\ethics\\Lib\\site-packages\\keras\\src\\losses.py:2976: The name tf.losses.sparse_softmax_cross_entropy is deprecated. Please use tf.compat.v1.losses.sparse_softmax_cross_entropy instead.\n",
      "\n"
     ]
    }
   ],
   "source": [
    "# Import\n",
    "import numpy as np\n",
    "import pandas as pd\n",
    "from matplotlib import pyplot as plt\n",
    "%matplotlib inline\n",
    "import tensorflow as tf\n",
    "from tensorflow import keras"
   ]
  },
  {
   "cell_type": "markdown",
   "id": "65ae89e8-8de3-4fe9-b9d1-853983692347",
   "metadata": {},
   "source": [
    "# Combine datasets"
   ]
  },
  {
   "cell_type": "code",
   "execution_count": 2,
   "id": "082fddfd-24d0-45bf-aa0b-d9217bc21f90",
   "metadata": {},
   "outputs": [],
   "source": [
    "# Read the datasets\n",
    "real_images = pd.read_csv(\"real_images.csv\")\n",
    "fake_images = pd.read_csv(\"fake_images.csv\")"
   ]
  },
  {
   "cell_type": "code",
   "execution_count": 3,
   "id": "3f2b389f-2778-4d4f-b803-e4747418b43d",
   "metadata": {},
   "outputs": [],
   "source": [
    "# Normalize values between 0 and 1\n",
    "real_images /= 255.\n",
    "fake_images /= 255."
   ]
  },
  {
   "cell_type": "code",
   "execution_count": 4,
   "id": "e19d99aa-1ba3-4b1e-a7fd-c2e11dea104c",
   "metadata": {},
   "outputs": [],
   "source": [
    "# Add label column\n",
    "real_images[\"label\"] = 1.0\n",
    "fake_images[\"label\"] = 0.0"
   ]
  },
  {
   "cell_type": "code",
   "execution_count": 5,
   "id": "59e87ea3-d0e0-4412-bc8a-359690cecc92",
   "metadata": {},
   "outputs": [],
   "source": [
    "# Combine the two datasets\n",
    "images = pd.concat([real_images, fake_images], ignore_index=True)"
   ]
  },
  {
   "cell_type": "code",
   "execution_count": 6,
   "id": "5dac78d8-d518-4b73-beb5-c9b6e3e7e8c4",
   "metadata": {},
   "outputs": [
    {
     "data": {
      "text/plain": [
       "(50000, 785)"
      ]
     },
     "execution_count": 6,
     "metadata": {},
     "output_type": "execute_result"
    }
   ],
   "source": [
    "images.shape"
   ]
  },
  {
   "cell_type": "code",
   "execution_count": 7,
   "id": "b1a9e845-a1b7-4704-a303-ee91724fe4d3",
   "metadata": {},
   "outputs": [],
   "source": [
    "# Split into training and test sets\n",
    "features = images.drop(\"label\", axis=1)\n",
    "labels = images[\"label\"]\n",
    "X_test, X_train = features[:10_000], features[10_000:]\n",
    "y_test, y_train = labels[:10_000], labels[10_000:]"
   ]
  },
  {
   "cell_type": "markdown",
   "id": "3633a72c-ded8-48a8-8895-7c5a908a661b",
   "metadata": {},
   "source": [
    "# Create discriminator model"
   ]
  },
  {
   "cell_type": "code",
   "execution_count": 8,
   "id": "eaa663ef-d6e9-4ae9-b09f-b4dc68dbce86",
   "metadata": {},
   "outputs": [
    {
     "name": "stdout",
     "output_type": "stream",
     "text": [
      "WARNING:tensorflow:From C:\\Users\\leohj\\miniconda3\\envs\\ethics\\Lib\\site-packages\\keras\\src\\backend.py:277: The name tf.reset_default_graph is deprecated. Please use tf.compat.v1.reset_default_graph instead.\n",
      "\n"
     ]
    }
   ],
   "source": [
    "# Set random seeds\n",
    "keras.backend.clear_session()\n",
    "np.random.seed(42)\n",
    "tf.random.set_seed(42)"
   ]
  },
  {
   "cell_type": "code",
   "execution_count": 20,
   "id": "90cfc9ba-b3db-4bdf-a33a-4b35ebb26af3",
   "metadata": {},
   "outputs": [],
   "source": [
    "# Create model\n",
    "model = keras.models.Sequential([\n",
    "    keras.layers.Input(shape=[784]),\n",
    "    keras.layers.Dense(100, activation=\"relu\"),\n",
    "    keras.layers.Dense(1, activation=\"sigmoid\")\n",
    "])"
   ]
  },
  {
   "cell_type": "code",
   "execution_count": 21,
   "id": "12ef469d-1eda-44e7-a8aa-2c3b4b0a0258",
   "metadata": {},
   "outputs": [],
   "source": [
    "# Compile model\n",
    "model.compile(loss=\"binary_crossentropy\",\n",
    "              optimizer=\"sgd\",\n",
    "              metrics=[\"accuracy\"])"
   ]
  },
  {
   "cell_type": "code",
   "execution_count": 22,
   "id": "3215c40c-97dd-45db-931c-cd7deb4c2cd7",
   "metadata": {},
   "outputs": [],
   "source": [
    "# Add eary stopping\n",
    "early_stopping_cb = keras.callbacks.EarlyStopping(patience=5,\n",
    "                                                  restore_best_weights=True)"
   ]
  },
  {
   "cell_type": "code",
   "execution_count": 23,
   "id": "c744ad5f-9b2a-47a4-bd98-685be5834fcb",
   "metadata": {},
   "outputs": [
    {
     "name": "stdout",
     "output_type": "stream",
     "text": [
      "Epoch 1/30\n",
      "1250/1250 [==============================] - 3s 2ms/step - loss: 0.0415 - accuracy: 0.9949 - val_loss: 0.0170 - val_accuracy: 0.9997\n",
      "Epoch 2/30\n",
      "1250/1250 [==============================] - 3s 2ms/step - loss: 0.0053 - accuracy: 1.0000 - val_loss: 0.0078 - val_accuracy: 0.9998\n",
      "Epoch 3/30\n",
      "1250/1250 [==============================] - 2s 2ms/step - loss: 0.0029 - accuracy: 1.0000 - val_loss: 0.0051 - val_accuracy: 0.9998\n",
      "Epoch 4/30\n",
      "1250/1250 [==============================] - 2s 2ms/step - loss: 0.0020 - accuracy: 1.0000 - val_loss: 0.0037 - val_accuracy: 0.9998\n",
      "Epoch 5/30\n",
      "1250/1250 [==============================] - 3s 2ms/step - loss: 0.0015 - accuracy: 1.0000 - val_loss: 0.0030 - val_accuracy: 0.9998\n",
      "Epoch 6/30\n",
      "1250/1250 [==============================] - 2s 2ms/step - loss: 0.0012 - accuracy: 1.0000 - val_loss: 0.0025 - val_accuracy: 0.9999\n",
      "Epoch 7/30\n",
      "1250/1250 [==============================] - 2s 2ms/step - loss: 9.9900e-04 - accuracy: 1.0000 - val_loss: 0.0021 - val_accuracy: 0.9999\n",
      "Epoch 8/30\n",
      "1250/1250 [==============================] - 2s 2ms/step - loss: 8.5538e-04 - accuracy: 1.0000 - val_loss: 0.0019 - val_accuracy: 0.9999\n",
      "Epoch 9/30\n",
      "1250/1250 [==============================] - 2s 2ms/step - loss: 7.4719e-04 - accuracy: 1.0000 - val_loss: 0.0016 - val_accuracy: 0.9999\n",
      "Epoch 10/30\n",
      "1250/1250 [==============================] - 3s 2ms/step - loss: 6.6274e-04 - accuracy: 1.0000 - val_loss: 0.0015 - val_accuracy: 0.9999\n",
      "Epoch 11/30\n",
      "1250/1250 [==============================] - 3s 2ms/step - loss: 5.9515e-04 - accuracy: 1.0000 - val_loss: 0.0013 - val_accuracy: 0.9999\n",
      "Epoch 12/30\n",
      "1250/1250 [==============================] - 3s 2ms/step - loss: 5.3978e-04 - accuracy: 1.0000 - val_loss: 0.0012 - val_accuracy: 0.9999\n",
      "Epoch 13/30\n",
      "1250/1250 [==============================] - 3s 2ms/step - loss: 4.9365e-04 - accuracy: 1.0000 - val_loss: 0.0011 - val_accuracy: 1.0000\n",
      "Epoch 14/30\n",
      "1250/1250 [==============================] - 2s 2ms/step - loss: 4.5461e-04 - accuracy: 1.0000 - val_loss: 0.0011 - val_accuracy: 1.0000\n",
      "Epoch 15/30\n",
      "1250/1250 [==============================] - 2s 2ms/step - loss: 4.2116e-04 - accuracy: 1.0000 - val_loss: 9.8910e-04 - val_accuracy: 1.0000\n",
      "Epoch 16/30\n",
      "1250/1250 [==============================] - 3s 2ms/step - loss: 3.9221e-04 - accuracy: 1.0000 - val_loss: 9.2911e-04 - val_accuracy: 1.0000\n",
      "Epoch 17/30\n",
      "1250/1250 [==============================] - 2s 2ms/step - loss: 3.6687e-04 - accuracy: 1.0000 - val_loss: 8.7347e-04 - val_accuracy: 1.0000\n",
      "Epoch 18/30\n",
      "1250/1250 [==============================] - 2s 2ms/step - loss: 3.4455e-04 - accuracy: 1.0000 - val_loss: 8.2792e-04 - val_accuracy: 1.0000\n",
      "Epoch 19/30\n",
      "1250/1250 [==============================] - 2s 2ms/step - loss: 3.2472e-04 - accuracy: 1.0000 - val_loss: 7.8658e-04 - val_accuracy: 1.0000\n",
      "Epoch 20/30\n",
      "1250/1250 [==============================] - 2s 2ms/step - loss: 3.0701e-04 - accuracy: 1.0000 - val_loss: 7.4619e-04 - val_accuracy: 1.0000\n",
      "Epoch 21/30\n",
      "1250/1250 [==============================] - 3s 2ms/step - loss: 2.9108e-04 - accuracy: 1.0000 - val_loss: 7.1210e-04 - val_accuracy: 1.0000\n",
      "Epoch 22/30\n",
      "1250/1250 [==============================] - 3s 2ms/step - loss: 2.7669e-04 - accuracy: 1.0000 - val_loss: 6.8081e-04 - val_accuracy: 1.0000\n",
      "Epoch 23/30\n",
      "1250/1250 [==============================] - 3s 2ms/step - loss: 2.6362e-04 - accuracy: 1.0000 - val_loss: 6.5217e-04 - val_accuracy: 1.0000\n",
      "Epoch 24/30\n",
      "1250/1250 [==============================] - 2s 2ms/step - loss: 2.5171e-04 - accuracy: 1.0000 - val_loss: 6.2577e-04 - val_accuracy: 1.0000\n",
      "Epoch 25/30\n",
      "1250/1250 [==============================] - 2s 2ms/step - loss: 2.4080e-04 - accuracy: 1.0000 - val_loss: 6.0183e-04 - val_accuracy: 1.0000\n",
      "Epoch 26/30\n",
      "1250/1250 [==============================] - 2s 2ms/step - loss: 2.3078e-04 - accuracy: 1.0000 - val_loss: 5.7970e-04 - val_accuracy: 1.0000\n",
      "Epoch 27/30\n",
      "1250/1250 [==============================] - 2s 2ms/step - loss: 2.2155e-04 - accuracy: 1.0000 - val_loss: 5.5835e-04 - val_accuracy: 1.0000\n",
      "Epoch 28/30\n",
      "1250/1250 [==============================] - 2s 2ms/step - loss: 2.1301e-04 - accuracy: 1.0000 - val_loss: 5.3878e-04 - val_accuracy: 1.0000\n",
      "Epoch 29/30\n",
      "1250/1250 [==============================] - 2s 2ms/step - loss: 2.0509e-04 - accuracy: 1.0000 - val_loss: 5.2110e-04 - val_accuracy: 1.0000\n",
      "Epoch 30/30\n",
      "1250/1250 [==============================] - 2s 2ms/step - loss: 1.9773e-04 - accuracy: 1.0000 - val_loss: 5.0413e-04 - val_accuracy: 1.0000\n"
     ]
    }
   ],
   "source": [
    "# Train model\n",
    "history = model.fit(X_train, y_train, epochs=30,\n",
    "                    validation_data=(X_test, y_test),\n",
    "                    callbacks=[early_stopping_cb])"
   ]
  },
  {
   "cell_type": "code",
   "execution_count": 25,
   "id": "15b2f0b7-1d6a-420f-94f4-c4a388a87ca1",
   "metadata": {},
   "outputs": [
    {
     "name": "stdout",
     "output_type": "stream",
     "text": [
      "1/1 [==============================] - 0s 25ms/step\n"
     ]
    },
    {
     "data": {
      "text/plain": [
       "array([[0.9999532]], dtype=float32)"
      ]
     },
     "execution_count": 25,
     "metadata": {},
     "output_type": "execute_result"
    }
   ],
   "source": [
    "# Check a prediction\n",
    "model.predict(X_test[:1])"
   ]
  },
  {
   "cell_type": "code",
   "execution_count": 26,
   "id": "80d79e2e-7c6e-4630-bd20-7708f1474d87",
   "metadata": {},
   "outputs": [
    {
     "data": {
      "image/png": "[encoded data removed]",
      "text/plain": [
       "<Figure size 800x500 with 1 Axes>"
      ]
     },
     "metadata": {},
     "output_type": "display_data"
    }
   ],
   "source": [
    "# Plot curves\n",
    "pd.DataFrame(history.history).plot(figsize=(8, 5))\n",
    "plt.grid(True)\n",
    "plt.gca().set_ylim(0, 1)\n",
    "plt.show()"
   ]
  },
  {
   "cell_type": "code",
   "execution_count": 27,
   "id": "28ca4fca-8861-47a5-9ed8-ec09d91e8b08",
   "metadata": {},
   "outputs": [
    {
     "name": "stderr",
     "output_type": "stream",
     "text": [
      "C:\\Users\\leohj\\miniconda3\\envs\\ethics\\Lib\\site-packages\\keras\\src\\engine\\training.py:3103: UserWarning: You are saving your model as an HDF5 file via `model.save()`. This file format is considered legacy. We recommend using instead the native Keras format, e.g. `model.save('my_model.keras')`.\n",
      "  saving_api.save_model(\n"
     ]
    }
   ],
   "source": [
    "# Save model\n",
    "model.save(\"discriminator.h5\")"
   ]
  }
 ],
 "metadata": {
  "kernelspec": {
   "display_name": "Python 3 (ipykernel)",
   "language": "python",
   "name": "python3"
  },
  "language_info": {
   "codemirror_mode": {
    "name": "ipython",
    "version": 3
   },
   "file_extension": ".py",
   "mimetype": "text/x-python",
   "name": "python",
   "nbconvert_exporter": "python",
   "pygments_lexer": "ipython3",
   "version": "3.11.7"
  }
 },
 "nbformat": 4,
 "nbformat_minor": 5
}
