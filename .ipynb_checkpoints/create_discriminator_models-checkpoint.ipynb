{
 "cells": [
  {
   "cell_type": "code",
   "execution_count": 10,
   "id": "644ed656-0639-4a64-b121-11cd3ec4cf56",
   "metadata": {
    "ExecuteTime": {
     "end_time": "2024-03-03T15:44:48.863317Z",
     "start_time": "2024-03-03T15:44:48.859772Z"
    }
   },
   "outputs": [],
   "source": [
    "# Import\n",
    "import sys\n",
    "import numpy as np\n",
    "import pandas as pd\n",
    "from keras.src.callbacks import EarlyStopping\n",
    "from matplotlib import pyplot as plt\n",
    "%matplotlib inline\n",
    "import tensorflow as tf\n",
    "from tensorflow import keras"
   ]
  },
  {
   "cell_type": "code",
   "execution_count": 11,
   "id": "21ca1aba-f802-44d4-a053-bd69b232e02c",
   "metadata": {
    "ExecuteTime": {
     "end_time": "2024-03-03T15:44:49.089563Z",
     "start_time": "2024-03-03T15:44:49.032344Z"
    }
   },
   "outputs": [],
   "source": [
    "# Set random seeds\n",
    "keras.backend.clear_session()\n",
    "np.random.seed(42)\n",
    "tf.random.set_seed(42)"
   ]
  },
  {
   "cell_type": "markdown",
   "id": "65ae89e8-8de3-4fe9-b9d1-853983692347",
   "metadata": {},
   "source": [
    "# Combine datasets"
   ]
  },
  {
   "cell_type": "code",
   "execution_count": 19,
   "id": "082fddfd-24d0-45bf-aa0b-d9217bc21f90",
   "metadata": {
    "ExecuteTime": {
     "end_time": "2024-03-03T15:44:50.582956Z",
     "start_time": "2024-03-03T15:44:49.369368Z"
    }
   },
   "outputs": [],
   "source": [
    "# Read the datasets\n",
    "real_images = pd.read_csv(\"real_images.csv\")\n",
    "fake_images = pd.read_csv(\"almost_real_fake_images.csv\")"
   ]
  },
  {
   "cell_type": "code",
   "execution_count": 21,
   "id": "b46c8ea3-96e0-4031-b3a7-b5233055e5de",
   "metadata": {},
   "outputs": [
    {
     "name": "stdout",
     "output_type": "stream",
     "text": [
      "(10000, 784) (10000, 785)\n"
     ]
    }
   ],
   "source": [
    "# Drop some real imagesso that there are as many real images as fake images\n",
    "real_images.drop(real_images.tail(15_000).index,inplace=True)\n",
    "print(real_images.shape, fake_images.shape)"
   ]
  },
  {
   "cell_type": "code",
   "execution_count": 22,
   "id": "3f2b389f-2778-4d4f-b803-e4747418b43d",
   "metadata": {
    "ExecuteTime": {
     "end_time": "2024-03-03T15:44:50.661437Z",
     "start_time": "2024-03-03T15:44:50.583647Z"
    }
   },
   "outputs": [],
   "source": [
    "# Normalize values between 0 and 1\n",
    "real_images /= 255.\n",
    "fake_images /= 255."
   ]
  },
  {
   "cell_type": "code",
   "execution_count": 23,
   "id": "e19d99aa-1ba3-4b1e-a7fd-c2e11dea104c",
   "metadata": {
    "ExecuteTime": {
     "end_time": "2024-03-03T15:44:50.665838Z",
     "start_time": "2024-03-03T15:44:50.662893Z"
    }
   },
   "outputs": [],
   "source": [
    "# Add label column\n",
    "real_images[\"label\"] = 1.0\n",
    "fake_images[\"label\"] = 0.0"
   ]
  },
  {
   "cell_type": "code",
   "execution_count": 24,
   "id": "59e87ea3-d0e0-4412-bc8a-359690cecc92",
   "metadata": {
    "ExecuteTime": {
     "end_time": "2024-03-03T15:44:51.301361Z",
     "start_time": "2024-03-03T15:44:51.213115Z"
    }
   },
   "outputs": [],
   "source": [
    "# Combine the two datasets\n",
    "images = pd.concat([real_images, fake_images], ignore_index=True)"
   ]
  },
  {
   "cell_type": "code",
   "execution_count": 25,
   "id": "7d03eb63-e940-431a-99f3-e842dd723fff",
   "metadata": {
    "ExecuteTime": {
     "end_time": "2024-03-03T15:44:52.434269Z",
     "start_time": "2024-03-03T15:44:51.918918Z"
    }
   },
   "outputs": [],
   "source": [
    "# Shuffle\n",
    "images = images.sample(frac=1).reset_index(drop=True)"
   ]
  },
  {
   "cell_type": "code",
   "execution_count": 26,
   "id": "b1a9e845-a1b7-4704-a303-ee91724fe4d3",
   "metadata": {
    "ExecuteTime": {
     "end_time": "2024-03-03T15:44:52.481659Z",
     "start_time": "2024-03-03T15:44:52.432203Z"
    }
   },
   "outputs": [],
   "source": [
    "# Split into training and test sets\n",
    "features = images.drop(\"label\", axis=1)\n",
    "labels = images[\"label\"]"
   ]
  },
  {
   "cell_type": "markdown",
   "id": "3633a72c-ded8-48a8-8895-7c5a908a661b",
   "metadata": {},
   "source": [
    "# Create discriminator models"
   ]
  },
  {
   "cell_type": "code",
   "execution_count": 29,
   "id": "c1552a9a-c8d8-4aa8-a948-c6fcf77cb9a2",
   "metadata": {
    "ExecuteTime": {
     "end_time": "2024-03-03T15:50:52.343936Z",
     "start_time": "2024-03-03T15:50:47.087459Z"
    }
   },
   "outputs": [
    {
     "name": "stdout",
     "output_type": "stream",
     "text": [
      "Epoch 1/5\n",
      "50/50 [==============================] - 1s 7ms/step - loss: 0.5269 - accuracy: 0.9106 - val_loss: 0.4088 - val_accuracy: 1.0000\n",
      "Epoch 2/5\n",
      "50/50 [==============================] - 0s 3ms/step - loss: 0.3878 - accuracy: 1.0000 - val_loss: 0.3428 - val_accuracy: 1.0000\n",
      "Epoch 3/5\n",
      "50/50 [==============================] - 0s 3ms/step - loss: 0.3380 - accuracy: 1.0000 - val_loss: 0.3046 - val_accuracy: 1.0000\n",
      "Epoch 4/5\n",
      "50/50 [==============================] - 0s 3ms/step - loss: 0.3039 - accuracy: 1.0000 - val_loss: 0.2755 - val_accuracy: 1.0000\n",
      "Epoch 5/5\n",
      "50/50 [==============================] - 0s 3ms/step - loss: 0.2765 - accuracy: 1.0000 - val_loss: 0.2515 - val_accuracy: 1.0000\n",
      "Epoch 1/5\n",
      "50/50 [==============================] - 1s 7ms/step - loss: 0.5153 - accuracy: 0.9588 - val_loss: 0.4221 - val_accuracy: 1.0000\n",
      "Epoch 2/5\n",
      "50/50 [==============================] - 0s 3ms/step - loss: 0.3801 - accuracy: 1.0000 - val_loss: 0.3494 - val_accuracy: 1.0000\n",
      "Epoch 3/5\n",
      "50/50 [==============================] - 0s 3ms/step - loss: 0.3242 - accuracy: 1.0000 - val_loss: 0.3051 - val_accuracy: 1.0000\n",
      "Epoch 4/5\n",
      "50/50 [==============================] - 0s 3ms/step - loss: 0.2855 - accuracy: 1.0000 - val_loss: 0.2710 - val_accuracy: 1.0000\n",
      "Epoch 5/5\n",
      "50/50 [==============================] - 0s 3ms/step - loss: 0.2546 - accuracy: 1.0000 - val_loss: 0.2427 - val_accuracy: 1.0000\n",
      "Epoch 1/5\n",
      "50/50 [==============================] - 1s 7ms/step - loss: 0.4901 - accuracy: 0.9638 - val_loss: 0.3840 - val_accuracy: 0.9975\n",
      "Epoch 2/5\n",
      "50/50 [==============================] - 0s 3ms/step - loss: 0.3563 - accuracy: 1.0000 - val_loss: 0.3142 - val_accuracy: 0.9975\n",
      "Epoch 3/5\n",
      "50/50 [==============================] - 0s 3ms/step - loss: 0.3007 - accuracy: 1.0000 - val_loss: 0.2701 - val_accuracy: 0.9975\n",
      "Epoch 4/5\n",
      "50/50 [==============================] - 0s 3ms/step - loss: 0.2610 - accuracy: 1.0000 - val_loss: 0.2362 - val_accuracy: 0.9975\n",
      "Epoch 5/5\n",
      "50/50 [==============================] - 0s 3ms/step - loss: 0.2291 - accuracy: 1.0000 - val_loss: 0.2083 - val_accuracy: 1.0000\n",
      "Epoch 1/5\n",
      "50/50 [==============================] - 1s 6ms/step - loss: 0.5144 - accuracy: 0.9606 - val_loss: 0.3958 - val_accuracy: 1.0000\n",
      "Epoch 2/5\n",
      "50/50 [==============================] - 0s 3ms/step - loss: 0.3660 - accuracy: 1.0000 - val_loss: 0.3207 - val_accuracy: 1.0000\n",
      "Epoch 3/5\n",
      "50/50 [==============================] - 0s 3ms/step - loss: 0.3064 - accuracy: 1.0000 - val_loss: 0.2745 - val_accuracy: 1.0000\n",
      "Epoch 4/5\n",
      "50/50 [==============================] - 0s 3ms/step - loss: 0.2647 - accuracy: 1.0000 - val_loss: 0.2390 - val_accuracy: 1.0000\n",
      "Epoch 5/5\n",
      "50/50 [==============================] - 0s 3ms/step - loss: 0.2316 - accuracy: 1.0000 - val_loss: 0.2099 - val_accuracy: 1.0000\n",
      "Epoch 1/5\n",
      "50/50 [==============================] - 1s 7ms/step - loss: 0.5130 - accuracy: 0.9500 - val_loss: 0.3963 - val_accuracy: 1.0000\n",
      "Epoch 2/5\n",
      "50/50 [==============================] - 0s 3ms/step - loss: 0.3680 - accuracy: 1.0000 - val_loss: 0.3176 - val_accuracy: 1.0000\n",
      "Epoch 3/5\n",
      "50/50 [==============================] - 0s 3ms/step - loss: 0.3087 - accuracy: 1.0000 - val_loss: 0.2707 - val_accuracy: 1.0000\n",
      "Epoch 4/5\n",
      "50/50 [==============================] - 0s 3ms/step - loss: 0.2673 - accuracy: 1.0000 - val_loss: 0.2355 - val_accuracy: 1.0000\n",
      "Epoch 5/5\n",
      "50/50 [==============================] - 0s 3ms/step - loss: 0.2344 - accuracy: 1.0000 - val_loss: 0.2070 - val_accuracy: 1.0000\n",
      "Epoch 1/5\n",
      "50/50 [==============================] - 1s 7ms/step - loss: 0.5120 - accuracy: 0.9694 - val_loss: 0.4149 - val_accuracy: 1.0000\n",
      "Epoch 2/5\n",
      "50/50 [==============================] - 0s 3ms/step - loss: 0.3674 - accuracy: 1.0000 - val_loss: 0.3372 - val_accuracy: 1.0000\n",
      "Epoch 3/5\n",
      "50/50 [==============================] - 0s 3ms/step - loss: 0.3068 - accuracy: 1.0000 - val_loss: 0.2886 - val_accuracy: 1.0000\n",
      "Epoch 4/5\n",
      "50/50 [==============================] - 0s 3ms/step - loss: 0.2647 - accuracy: 1.0000 - val_loss: 0.2513 - val_accuracy: 1.0000\n",
      "Epoch 5/5\n",
      "50/50 [==============================] - 0s 3ms/step - loss: 0.2314 - accuracy: 1.0000 - val_loss: 0.2207 - val_accuracy: 1.0000\n",
      "Epoch 1/5\n",
      "50/50 [==============================] - 1s 7ms/step - loss: 0.4506 - accuracy: 0.9837 - val_loss: 0.3779 - val_accuracy: 1.0000\n",
      "Epoch 2/5\n",
      "50/50 [==============================] - 0s 3ms/step - loss: 0.3391 - accuracy: 1.0000 - val_loss: 0.3106 - val_accuracy: 1.0000\n",
      "Epoch 3/5\n",
      "50/50 [==============================] - 0s 3ms/step - loss: 0.2835 - accuracy: 1.0000 - val_loss: 0.2645 - val_accuracy: 1.0000\n",
      "Epoch 4/5\n",
      "50/50 [==============================] - 0s 3ms/step - loss: 0.2429 - accuracy: 1.0000 - val_loss: 0.2285 - val_accuracy: 1.0000\n",
      "Epoch 5/5\n",
      "50/50 [==============================] - 0s 3ms/step - loss: 0.2105 - accuracy: 1.0000 - val_loss: 0.1990 - val_accuracy: 1.0000\n",
      "Epoch 1/5\n",
      "50/50 [==============================] - 1s 7ms/step - loss: 0.5499 - accuracy: 0.8288 - val_loss: 0.4358 - val_accuracy: 1.0000\n",
      "Epoch 2/5\n",
      "50/50 [==============================] - 0s 3ms/step - loss: 0.3801 - accuracy: 1.0000 - val_loss: 0.3640 - val_accuracy: 1.0000\n",
      "Epoch 3/5\n",
      "50/50 [==============================] - 0s 3ms/step - loss: 0.3263 - accuracy: 1.0000 - val_loss: 0.3213 - val_accuracy: 1.0000\n",
      "Epoch 4/5\n",
      "50/50 [==============================] - 0s 3ms/step - loss: 0.2899 - accuracy: 1.0000 - val_loss: 0.2881 - val_accuracy: 1.0000\n",
      "Epoch 5/5\n",
      "50/50 [==============================] - 0s 3ms/step - loss: 0.2606 - accuracy: 1.0000 - val_loss: 0.2603 - val_accuracy: 1.0000\n",
      "Epoch 1/5\n",
      "50/50 [==============================] - 1s 6ms/step - loss: 0.5063 - accuracy: 0.9531 - val_loss: 0.4001 - val_accuracy: 1.0000\n",
      "Epoch 2/5\n",
      "50/50 [==============================] - 0s 3ms/step - loss: 0.3714 - accuracy: 0.9994 - val_loss: 0.3319 - val_accuracy: 1.0000\n",
      "Epoch 3/5\n",
      "50/50 [==============================] - 0s 3ms/step - loss: 0.3193 - accuracy: 0.9994 - val_loss: 0.2909 - val_accuracy: 1.0000\n",
      "Epoch 4/5\n",
      "50/50 [==============================] - 0s 3ms/step - loss: 0.2831 - accuracy: 0.9994 - val_loss: 0.2594 - val_accuracy: 1.0000\n",
      "Epoch 5/5\n",
      "50/50 [==============================] - 0s 3ms/step - loss: 0.2540 - accuracy: 0.9994 - val_loss: 0.2333 - val_accuracy: 1.0000\n",
      "Epoch 1/5\n",
      "50/50 [==============================] - 1s 7ms/step - loss: 0.5666 - accuracy: 0.8781 - val_loss: 0.4344 - val_accuracy: 1.0000\n",
      "Epoch 2/5\n",
      "50/50 [==============================] - 0s 3ms/step - loss: 0.4086 - accuracy: 1.0000 - val_loss: 0.3558 - val_accuracy: 1.0000\n",
      "Epoch 3/5\n",
      "50/50 [==============================] - 0s 3ms/step - loss: 0.3528 - accuracy: 1.0000 - val_loss: 0.3129 - val_accuracy: 1.0000\n",
      "Epoch 4/5\n",
      "50/50 [==============================] - 0s 3ms/step - loss: 0.3158 - accuracy: 1.0000 - val_loss: 0.2815 - val_accuracy: 1.0000\n",
      "Epoch 5/5\n",
      "50/50 [==============================] - 0s 3ms/step - loss: 0.2866 - accuracy: 1.0000 - val_loss: 0.2560 - val_accuracy: 1.0000\n"
     ]
    }
   ],
   "source": [
    "if sys.platform.startswith('darwin'):\n",
    "    optimizer = tf.keras.optimizers.legacy.SGD\n",
    "else:\n",
    "    optimizer = \"sgd\"\n",
    "    \n",
    "TOTAL_MODELS = 10\n",
    "TRAINING_SIZE = 16_000\n",
    "TEST_SIZE = 4_000\n",
    "MODEL_TRAINING_SIZE = int(TRAINING_SIZE / TOTAL_MODELS)\n",
    "MODEL_TEST_SIZE = int(TEST_SIZE / TOTAL_MODELS)\n",
    "\n",
    "for i in range(TOTAL_MODELS):\n",
    "    # create training and test set for the model\n",
    "    start_idx = i * MODEL_TRAINING_SIZE\n",
    "    end_idx = (i + 1) * MODEL_TRAINING_SIZE\n",
    "\n",
    "    m_x_test = features[end_idx:end_idx + MODEL_TEST_SIZE]\n",
    "    m_x_train = features[start_idx:end_idx]\n",
    "\n",
    "    m_y_test = labels[end_idx:end_idx + MODEL_TEST_SIZE]\n",
    "    m_y_train = labels[start_idx:end_idx]\n",
    "    # Create model\n",
    "    model = keras.models.Sequential([\n",
    "        keras.layers.Input(shape=[784]),\n",
    "        keras.layers.Dense(100, activation=\"relu\"),\n",
    "        keras.layers.Dense(1, activation=\"sigmoid\")\n",
    "    ])\n",
    "    # Compile model\n",
    "    model.compile(loss=\"binary_crossentropy\",\n",
    "                  optimizer=\"sgd\",\n",
    "                  metrics=[\"accuracy\"])\n",
    "    \n",
    "    early_stopping = EarlyStopping(monitor='val_loss', patience=3, restore_best_weights=True)\n",
    "    \n",
    "    # Train model\n",
    "    model.fit(m_x_train, m_y_train, epochs=5,\n",
    "              validation_data=(m_x_test, m_y_test))\n",
    "    # Save model\n",
    "    model.save(f\"discriminator_models/discriminator_{i+1}.keras\")"
   ]
  },
  {
   "cell_type": "code",
   "execution_count": null,
   "id": "3d3838b8-8a05-43d8-befd-f1a6b6f55f07",
   "metadata": {},
   "outputs": [],
   "source": []
  }
 ],
 "metadata": {
  "kernelspec": {
   "display_name": "Python 3 (ipykernel)",
   "language": "python",
   "name": "python3"
  },
  "language_info": {
   "codemirror_mode": {
    "name": "ipython",
    "version": 3
   },
   "file_extension": ".py",
   "mimetype": "text/x-python",
   "name": "python",
   "nbconvert_exporter": "python",
   "pygments_lexer": "ipython3",
   "version": "3.11.7"
  }
 },
 "nbformat": 4,
 "nbformat_minor": 5
}
