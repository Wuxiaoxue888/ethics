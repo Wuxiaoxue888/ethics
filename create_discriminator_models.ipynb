{
 "cells": [
  {
   "cell_type": "code",
   "execution_count": 24,
   "id": "644ed656-0639-4a64-b121-11cd3ec4cf56",
   "metadata": {
    "ExecuteTime": {
     "end_time": "2024-03-03T15:44:48.863317Z",
     "start_time": "2024-03-03T15:44:48.859772Z"
    }
   },
   "outputs": [],
   "source": [
    "import sys\n",
    "\n",
    "# Import\n",
    "import numpy as np\n",
    "import pandas as pd\n",
    "from keras.src.callbacks import EarlyStopping\n",
    "from matplotlib import pyplot as plt\n",
    "%matplotlib inline\n",
    "import tensorflow as tf\n",
    "from tensorflow import keras"
   ]
  },
  {
   "cell_type": "code",
   "execution_count": 25,
   "id": "21ca1aba-f802-44d4-a053-bd69b232e02c",
   "metadata": {
    "ExecuteTime": {
     "end_time": "2024-03-03T15:44:49.089563Z",
     "start_time": "2024-03-03T15:44:49.032344Z"
    }
   },
   "outputs": [],
   "source": [
    "# Set random seeds\n",
    "keras.backend.clear_session()\n",
    "np.random.seed(42)\n",
    "tf.random.set_seed(42)"
   ]
  },
  {
   "cell_type": "markdown",
   "id": "65ae89e8-8de3-4fe9-b9d1-853983692347",
   "metadata": {},
   "source": [
    "# Combine datasets"
   ]
  },
  {
   "cell_type": "code",
   "execution_count": 26,
   "id": "082fddfd-24d0-45bf-aa0b-d9217bc21f90",
   "metadata": {
    "ExecuteTime": {
     "end_time": "2024-03-03T15:44:50.582956Z",
     "start_time": "2024-03-03T15:44:49.369368Z"
    }
   },
   "outputs": [],
   "source": [
    "# Read the datasets\n",
    "real_images = pd.read_csv(\"real_images.csv\")\n",
    "fake_images = pd.read_csv(\"fake_images.csv\")"
   ]
  },
  {
   "cell_type": "code",
   "execution_count": 27,
   "id": "3f2b389f-2778-4d4f-b803-e4747418b43d",
   "metadata": {
    "ExecuteTime": {
     "end_time": "2024-03-03T15:44:50.661437Z",
     "start_time": "2024-03-03T15:44:50.583647Z"
    }
   },
   "outputs": [],
   "source": [
    "# Normalize values between 0 and 1\n",
    "real_images /= 255.\n",
    "fake_images /= 255."
   ]
  },
  {
   "cell_type": "code",
   "execution_count": 28,
   "id": "e19d99aa-1ba3-4b1e-a7fd-c2e11dea104c",
   "metadata": {
    "ExecuteTime": {
     "end_time": "2024-03-03T15:44:50.665838Z",
     "start_time": "2024-03-03T15:44:50.662893Z"
    }
   },
   "outputs": [],
   "source": [
    "# Add label column\n",
    "real_images[\"label\"] = 1.0\n",
    "fake_images[\"label\"] = 0.0"
   ]
  },
  {
   "cell_type": "code",
   "execution_count": 29,
   "id": "59e87ea3-d0e0-4412-bc8a-359690cecc92",
   "metadata": {
    "ExecuteTime": {
     "end_time": "2024-03-03T15:44:51.301361Z",
     "start_time": "2024-03-03T15:44:51.213115Z"
    }
   },
   "outputs": [],
   "source": [
    "# Combine the two datasets\n",
    "images = pd.concat([real_images, fake_images], ignore_index=True)"
   ]
  },
  {
   "cell_type": "code",
   "execution_count": 30,
   "id": "7d03eb63-e940-431a-99f3-e842dd723fff",
   "metadata": {
    "ExecuteTime": {
     "end_time": "2024-03-03T15:44:52.434269Z",
     "start_time": "2024-03-03T15:44:51.918918Z"
    }
   },
   "outputs": [],
   "source": [
    "# Shuffle\n",
    "images = images.sample(frac=1).reset_index(drop=True)"
   ]
  },
  {
   "cell_type": "code",
   "execution_count": 31,
   "id": "b1a9e845-a1b7-4704-a303-ee91724fe4d3",
   "metadata": {
    "ExecuteTime": {
     "end_time": "2024-03-03T15:44:52.481659Z",
     "start_time": "2024-03-03T15:44:52.432203Z"
    }
   },
   "outputs": [],
   "source": [
    "# Split into training and test sets\n",
    "features = images.drop(\"label\", axis=1)\n",
    "labels = images[\"label\"]"
   ]
  },
  {
   "cell_type": "markdown",
   "id": "3633a72c-ded8-48a8-8895-7c5a908a661b",
   "metadata": {},
   "source": [
    "# Create discriminator models"
   ]
  },
  {
   "cell_type": "code",
   "execution_count": 35,
   "id": "c1552a9a-c8d8-4aa8-a948-c6fcf77cb9a2",
   "metadata": {
    "ExecuteTime": {
     "end_time": "2024-03-03T15:50:52.343936Z",
     "start_time": "2024-03-03T15:50:47.087459Z"
    }
   },
   "outputs": [
    {
     "name": "stdout",
     "output_type": "stream",
     "text": [
      "0\n",
      "Epoch 1/5\n",
      "63/63 [==============================] - 0s 2ms/step - loss: 0.4849 - accuracy: 0.9695 - val_loss: 0.3840 - val_accuracy: 1.0000\n",
      "Epoch 2/5\n",
      "63/63 [==============================] - 0s 946us/step - loss: 0.3498 - accuracy: 1.0000 - val_loss: 0.3121 - val_accuracy: 1.0000\n",
      "Epoch 3/5\n",
      "63/63 [==============================] - 0s 894us/step - loss: 0.2925 - accuracy: 1.0000 - val_loss: 0.2655 - val_accuracy: 1.0000\n",
      "Epoch 4/5\n",
      "63/63 [==============================] - 0s 899us/step - loss: 0.2512 - accuracy: 1.0000 - val_loss: 0.2292 - val_accuracy: 1.0000\n",
      "Epoch 5/5\n",
      "63/63 [==============================] - 0s 892us/step - loss: 0.2180 - accuracy: 1.0000 - val_loss: 0.1994 - val_accuracy: 1.0000\n",
      "1\n",
      "Epoch 1/5\n",
      "63/63 [==============================] - 0s 2ms/step - loss: 0.5046 - accuracy: 0.8885 - val_loss: 0.4130 - val_accuracy: 1.0000\n",
      "Epoch 2/5\n",
      "63/63 [==============================] - 0s 1ms/step - loss: 0.3533 - accuracy: 1.0000 - val_loss: 0.3448 - val_accuracy: 1.0000\n",
      "Epoch 3/5\n",
      "63/63 [==============================] - 0s 1ms/step - loss: 0.2996 - accuracy: 1.0000 - val_loss: 0.2999 - val_accuracy: 1.0000\n",
      "Epoch 4/5\n",
      "63/63 [==============================] - 0s 982us/step - loss: 0.2612 - accuracy: 1.0000 - val_loss: 0.2639 - val_accuracy: 1.0000\n",
      "Epoch 5/5\n",
      "63/63 [==============================] - 0s 990us/step - loss: 0.2301 - accuracy: 1.0000 - val_loss: 0.2336 - val_accuracy: 1.0000\n",
      "2\n",
      "Epoch 1/5\n",
      "63/63 [==============================] - 0s 2ms/step - loss: 0.4793 - accuracy: 0.9705 - val_loss: 0.3694 - val_accuracy: 1.0000\n",
      "Epoch 2/5\n",
      "63/63 [==============================] - 0s 998us/step - loss: 0.3391 - accuracy: 1.0000 - val_loss: 0.2938 - val_accuracy: 1.0000\n",
      "Epoch 3/5\n",
      "63/63 [==============================] - 0s 950us/step - loss: 0.2771 - accuracy: 1.0000 - val_loss: 0.2442 - val_accuracy: 1.0000\n",
      "Epoch 4/5\n",
      "63/63 [==============================] - 0s 1ms/step - loss: 0.2324 - accuracy: 1.0000 - val_loss: 0.2063 - val_accuracy: 1.0000\n",
      "Epoch 5/5\n",
      "63/63 [==============================] - 0s 969us/step - loss: 0.1971 - accuracy: 1.0000 - val_loss: 0.1758 - val_accuracy: 1.0000\n",
      "3\n",
      "Epoch 1/5\n",
      "63/63 [==============================] - 0s 2ms/step - loss: 0.4754 - accuracy: 0.9025 - val_loss: 0.3857 - val_accuracy: 1.0000\n",
      "Epoch 2/5\n",
      "63/63 [==============================] - 0s 896us/step - loss: 0.3440 - accuracy: 1.0000 - val_loss: 0.3195 - val_accuracy: 1.0000\n",
      "Epoch 3/5\n",
      "63/63 [==============================] - 0s 874us/step - loss: 0.2933 - accuracy: 1.0000 - val_loss: 0.2768 - val_accuracy: 1.0000\n",
      "Epoch 4/5\n",
      "63/63 [==============================] - 0s 931us/step - loss: 0.2563 - accuracy: 1.0000 - val_loss: 0.2431 - val_accuracy: 1.0000\n",
      "Epoch 5/5\n",
      "63/63 [==============================] - 0s 870us/step - loss: 0.2261 - accuracy: 1.0000 - val_loss: 0.2151 - val_accuracy: 1.0000\n",
      "4\n",
      "Epoch 1/5\n",
      "63/63 [==============================] - 0s 2ms/step - loss: 0.4448 - accuracy: 0.9790 - val_loss: 0.3604 - val_accuracy: 1.0000\n",
      "Epoch 2/5\n",
      "63/63 [==============================] - 0s 936us/step - loss: 0.3311 - accuracy: 1.0000 - val_loss: 0.2985 - val_accuracy: 1.0000\n",
      "Epoch 3/5\n",
      "63/63 [==============================] - 0s 889us/step - loss: 0.2796 - accuracy: 1.0000 - val_loss: 0.2566 - val_accuracy: 1.0000\n",
      "Epoch 4/5\n",
      "63/63 [==============================] - 0s 890us/step - loss: 0.2417 - accuracy: 1.0000 - val_loss: 0.2233 - val_accuracy: 1.0000\n",
      "Epoch 5/5\n",
      "63/63 [==============================] - 0s 887us/step - loss: 0.2109 - accuracy: 1.0000 - val_loss: 0.1956 - val_accuracy: 1.0000\n",
      "5\n",
      "Epoch 1/5\n",
      "63/63 [==============================] - 0s 2ms/step - loss: 0.4690 - accuracy: 0.9790 - val_loss: 0.3829 - val_accuracy: 0.9980\n",
      "Epoch 2/5\n",
      "63/63 [==============================] - 0s 941us/step - loss: 0.3421 - accuracy: 1.0000 - val_loss: 0.3122 - val_accuracy: 1.0000\n",
      "Epoch 3/5\n",
      "63/63 [==============================] - 0s 892us/step - loss: 0.2855 - accuracy: 1.0000 - val_loss: 0.2648 - val_accuracy: 1.0000\n",
      "Epoch 4/5\n",
      "63/63 [==============================] - 0s 926us/step - loss: 0.2438 - accuracy: 1.0000 - val_loss: 0.2277 - val_accuracy: 1.0000\n",
      "Epoch 5/5\n",
      "63/63 [==============================] - 0s 929us/step - loss: 0.2102 - accuracy: 1.0000 - val_loss: 0.1973 - val_accuracy: 1.0000\n",
      "6\n",
      "Epoch 1/5\n",
      "63/63 [==============================] - 0s 2ms/step - loss: 0.4736 - accuracy: 0.9620 - val_loss: 0.3907 - val_accuracy: 1.0000\n",
      "Epoch 2/5\n",
      "63/63 [==============================] - 0s 923us/step - loss: 0.3431 - accuracy: 1.0000 - val_loss: 0.3272 - val_accuracy: 1.0000\n",
      "Epoch 3/5\n",
      "63/63 [==============================] - 0s 915us/step - loss: 0.2928 - accuracy: 1.0000 - val_loss: 0.2851 - val_accuracy: 1.0000\n",
      "Epoch 4/5\n",
      "63/63 [==============================] - 0s 904us/step - loss: 0.2564 - accuracy: 1.0000 - val_loss: 0.2516 - val_accuracy: 1.0000\n",
      "Epoch 5/5\n",
      "63/63 [==============================] - 0s 889us/step - loss: 0.2269 - accuracy: 1.0000 - val_loss: 0.2235 - val_accuracy: 1.0000\n",
      "7\n",
      "Epoch 1/5\n",
      "63/63 [==============================] - 0s 2ms/step - loss: 0.5015 - accuracy: 0.9315 - val_loss: 0.3762 - val_accuracy: 1.0000\n",
      "Epoch 2/5\n",
      "63/63 [==============================] - 0s 928us/step - loss: 0.3499 - accuracy: 1.0000 - val_loss: 0.3020 - val_accuracy: 1.0000\n",
      "Epoch 3/5\n",
      "63/63 [==============================] - 0s 921us/step - loss: 0.2912 - accuracy: 1.0000 - val_loss: 0.2558 - val_accuracy: 1.0000\n",
      "Epoch 4/5\n",
      "63/63 [==============================] - 0s 896us/step - loss: 0.2492 - accuracy: 1.0000 - val_loss: 0.2202 - val_accuracy: 1.0000\n",
      "Epoch 5/5\n",
      "63/63 [==============================] - 0s 902us/step - loss: 0.2154 - accuracy: 1.0000 - val_loss: 0.1912 - val_accuracy: 1.0000\n",
      "8\n",
      "Epoch 1/5\n",
      "63/63 [==============================] - 0s 2ms/step - loss: 0.4759 - accuracy: 0.9315 - val_loss: 0.3904 - val_accuracy: 1.0000\n",
      "Epoch 2/5\n",
      "63/63 [==============================] - 0s 910us/step - loss: 0.3409 - accuracy: 1.0000 - val_loss: 0.3217 - val_accuracy: 1.0000\n",
      "Epoch 3/5\n",
      "63/63 [==============================] - 0s 877us/step - loss: 0.2867 - accuracy: 1.0000 - val_loss: 0.2765 - val_accuracy: 1.0000\n",
      "Epoch 4/5\n",
      "63/63 [==============================] - 0s 883us/step - loss: 0.2477 - accuracy: 1.0000 - val_loss: 0.2406 - val_accuracy: 1.0000\n",
      "Epoch 5/5\n",
      "63/63 [==============================] - 0s 889us/step - loss: 0.2161 - accuracy: 1.0000 - val_loss: 0.2107 - val_accuracy: 1.0000\n",
      "9\n",
      "Epoch 1/5\n",
      "63/63 [==============================] - 0s 2ms/step - loss: 0.4742 - accuracy: 0.9615 - val_loss: 0.3888 - val_accuracy: 1.0000\n",
      "Epoch 2/5\n",
      "63/63 [==============================] - 0s 940us/step - loss: 0.3500 - accuracy: 1.0000 - val_loss: 0.3226 - val_accuracy: 1.0000\n",
      "Epoch 3/5\n",
      "63/63 [==============================] - 0s 1ms/step - loss: 0.2955 - accuracy: 1.0000 - val_loss: 0.2774 - val_accuracy: 1.0000\n",
      "Epoch 4/5\n",
      "63/63 [==============================] - 0s 966us/step - loss: 0.2555 - accuracy: 1.0000 - val_loss: 0.2415 - val_accuracy: 1.0000\n",
      "Epoch 5/5\n",
      "63/63 [==============================] - 0s 1ms/step - loss: 0.2230 - accuracy: 1.0000 - val_loss: 0.2116 - val_accuracy: 1.0000\n"
     ]
    }
   ],
   "source": [
    "if sys.platform.startswith('darwin'):\n",
    "    optimizer = tf.keras.optimizers.legacy.SGD\n",
    "else:\n",
    "    optimizer = \"sgd\"\n",
    "    \n",
    "TOTAL_MODELS = 10\n",
    "TRAINING_SIZE = 20_000\n",
    "TEST_SIZE = 5_000\n",
    "MODEL_TRAINING_SIZE = int(TRAINING_SIZE / TOTAL_MODELS)\n",
    "MODEL_TEST_SIZE = int(TEST_SIZE / TOTAL_MODELS)\n",
    "\n",
    "for i in range(TOTAL_MODELS):\n",
    "    # create training and test set for the model\n",
    "    start_idx = i * MODEL_TRAINING_SIZE\n",
    "    end_idx = (i + 1) * MODEL_TRAINING_SIZE\n",
    "\n",
    "    m_x_test = features[end_idx:end_idx + MODEL_TEST_SIZE]\n",
    "    m_x_train = features[start_idx:end_idx]\n",
    "\n",
    "    m_y_test = labels[end_idx:end_idx + MODEL_TEST_SIZE]\n",
    "    m_y_train = labels[start_idx:end_idx]\n",
    "    # Create model\n",
    "    model = keras.models.Sequential([\n",
    "        keras.layers.Input(shape=[784]),\n",
    "        keras.layers.Dense(100, activation=\"relu\"),\n",
    "        keras.layers.Dense(1, activation=\"sigmoid\")\n",
    "    ])\n",
    "    # Compile model\n",
    "    model.compile(loss=\"binary_crossentropy\",\n",
    "                  optimizer=\"sgd\",\n",
    "                  metrics=[\"accuracy\"])\n",
    "    \n",
    "    early_stopping = EarlyStopping(monitor='val_loss', patience=3, restore_best_weights=True)\n",
    "    \n",
    "    # Train model\n",
    "    model.fit(m_x_train, m_y_train, epochs=5,\n",
    "              validation_data=(m_x_test, m_y_test))\n",
    "    # Save model\n",
    "    model.save(f\"discriminator_models/discriminator_{i+1}.keras\")"
   ]
  },
  {
   "cell_type": "code",
   "execution_count": null,
   "id": "3d3838b8-8a05-43d8-befd-f1a6b6f55f07",
   "metadata": {},
   "outputs": [],
   "source": []
  }
 ],
 "metadata": {
  "kernelspec": {
   "display_name": "Python 3 (ipykernel)",
   "language": "python",
   "name": "python3"
  },
  "language_info": {
   "codemirror_mode": {
    "name": "ipython",
    "version": 3
   },
   "file_extension": ".py",
   "mimetype": "text/x-python",
   "name": "python",
   "nbconvert_exporter": "python",
   "pygments_lexer": "ipython3",
   "version": "3.11.7"
  }
 },
 "nbformat": 4,
 "nbformat_minor": 5
}
