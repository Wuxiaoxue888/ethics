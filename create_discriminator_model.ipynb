{
 "cells": [
  {
   "cell_type": "code",
   "execution_count": 152,
   "id": "644ed656-0639-4a64-b121-11cd3ec4cf56",
   "metadata": {},
   "outputs": [],
   "source": [
    "# Import\n",
    "import numpy as np\n",
    "import pandas as pd\n",
    "from matplotlib import pyplot as plt\n",
    "%matplotlib inline\n",
    "import tensorflow as tf\n",
    "from tensorflow import keras"
   ]
  },
  {
   "cell_type": "code",
   "execution_count": 153,
   "id": "21ca1aba-f802-44d4-a053-bd69b232e02c",
   "metadata": {},
   "outputs": [],
   "source": [
    "# Set random seeds\n",
    "keras.backend.clear_session()\n",
    "np.random.seed(42)\n",
    "tf.random.set_seed(42)"
   ]
  },
  {
   "cell_type": "markdown",
   "id": "65ae89e8-8de3-4fe9-b9d1-853983692347",
   "metadata": {},
   "source": [
    "# Combine datasets"
   ]
  },
  {
   "cell_type": "code",
   "execution_count": 154,
   "id": "082fddfd-24d0-45bf-aa0b-d9217bc21f90",
   "metadata": {},
   "outputs": [],
   "source": [
    "# Read the datasets\n",
    "real_images = pd.read_csv(\"real_images.csv\")\n",
    "fake_images = pd.read_csv(\"fake_images.csv\")"
   ]
  },
  {
   "cell_type": "code",
   "execution_count": 155,
   "id": "3f2b389f-2778-4d4f-b803-e4747418b43d",
   "metadata": {},
   "outputs": [],
   "source": [
    "# Normalize values between 0 and 1\n",
    "real_images /= 255.\n",
    "fake_images /= 255."
   ]
  },
  {
   "cell_type": "code",
   "execution_count": 156,
   "id": "e19d99aa-1ba3-4b1e-a7fd-c2e11dea104c",
   "metadata": {},
   "outputs": [],
   "source": [
    "# Add label column\n",
    "real_images[\"label\"] = 1.0\n",
    "fake_images[\"label\"] = 0.0"
   ]
  },
  {
   "cell_type": "code",
   "execution_count": 157,
   "id": "59e87ea3-d0e0-4412-bc8a-359690cecc92",
   "metadata": {},
   "outputs": [],
   "source": [
    "# Combine the two datasets\n",
    "images = pd.concat([real_images, fake_images], ignore_index=True)"
   ]
  },
  {
   "cell_type": "code",
   "execution_count": 158,
   "id": "7d03eb63-e940-431a-99f3-e842dd723fff",
   "metadata": {},
   "outputs": [],
   "source": [
    "# Shuffle\n",
    "images = images.sample(frac=1).reset_index(drop=True)"
   ]
  },
  {
   "cell_type": "code",
   "execution_count": 159,
   "id": "5dac78d8-d518-4b73-beb5-c9b6e3e7e8c4",
   "metadata": {},
   "outputs": [
    {
     "data": {
      "text/plain": [
       "(50000, 785)"
      ]
     },
     "execution_count": 159,
     "metadata": {},
     "output_type": "execute_result"
    }
   ],
   "source": [
    "images.shape"
   ]
  },
  {
   "cell_type": "code",
   "execution_count": 160,
   "id": "b1a9e845-a1b7-4704-a303-ee91724fe4d3",
   "metadata": {},
   "outputs": [],
   "source": [
    "# Split into training and test sets\n",
    "features = images.drop(\"label\", axis=1)\n",
    "labels = images[\"label\"]\n",
    "training_size = 1000\n",
    "X_test, X_train = features[training_size:], features[:training_size]\n",
    "y_test, y_train = labels[training_size:], labels[:training_size]"
   ]
  },
  {
   "cell_type": "markdown",
   "id": "3633a72c-ded8-48a8-8895-7c5a908a661b",
   "metadata": {},
   "source": [
    "# Create discriminator model"
   ]
  },
  {
   "cell_type": "code",
   "execution_count": 161,
   "id": "42582972-7107-4b9e-b790-0133846a7f50",
   "metadata": {},
   "outputs": [],
   "source": [
    "# Set random seeds again\n",
    "keras.backend.clear_session()\n",
    "np.random.seed(42)\n",
    "tf.random.set_seed(42)"
   ]
  },
  {
   "cell_type": "code",
   "execution_count": 162,
   "id": "90cfc9ba-b3db-4bdf-a33a-4b35ebb26af3",
   "metadata": {},
   "outputs": [],
   "source": [
    "# Create model\n",
    "model = keras.models.Sequential([\n",
    "    keras.layers.Input(shape=[784]),\n",
    "    keras.layers.Dense(1, activation=\"sigmoid\")\n",
    "])"
   ]
  },
  {
   "cell_type": "code",
   "execution_count": 163,
   "id": "12ef469d-1eda-44e7-a8aa-2c3b4b0a0258",
   "metadata": {},
   "outputs": [],
   "source": [
    "# Compile model\n",
    "model.compile(loss=\"binary_crossentropy\",\n",
    "              optimizer=\"sgd\",\n",
    "              metrics=[\"accuracy\"])"
   ]
  },
  {
   "cell_type": "code",
   "execution_count": 164,
   "id": "3215c40c-97dd-45db-931c-cd7deb4c2cd7",
   "metadata": {},
   "outputs": [],
   "source": [
    "# Add eary stopping\n",
    "early_stopping_cb = keras.callbacks.EarlyStopping(patience=5,\n",
    "                                                  restore_best_weights=True)"
   ]
  },
  {
   "cell_type": "code",
   "execution_count": 165,
   "id": "c744ad5f-9b2a-47a4-bd98-685be5834fcb",
   "metadata": {},
   "outputs": [
    {
     "name": "stdout",
     "output_type": "stream",
     "text": [
      "32/32 [==============================] - 3s 73ms/step - loss: 0.4636 - accuracy: 0.7570 - val_loss: 0.3525 - val_accuracy: 0.9007\n"
     ]
    }
   ],
   "source": [
    "# Train model\n",
    "history = model.fit(X_train, y_train, epochs=1,\n",
    "                    validation_data=(X_test, y_test),\n",
    "                    callbacks=[early_stopping_cb])"
   ]
  },
  {
   "cell_type": "code",
   "execution_count": 166,
   "id": "15b2f0b7-1d6a-420f-94f4-c4a388a87ca1",
   "metadata": {},
   "outputs": [
    {
     "name": "stdout",
     "output_type": "stream",
     "text": [
      "1/1 [==============================] - 0s 57ms/step\n",
      "0.44071266 1.0\n"
     ]
    }
   ],
   "source": [
    "# Check a prediction\n",
    "prediction = model.predict(X_test[:1])\n",
    "print(prediction[0][0], y_test.values[0])"
   ]
  },
  {
   "cell_type": "code",
   "execution_count": 167,
   "id": "80d79e2e-7c6e-4630-bd20-7708f1474d87",
   "metadata": {},
   "outputs": [
    {
     "data": {
      "image/png": "[encoded data removed]",
      "text/plain": [
       "<Figure size 800x500 with 1 Axes>"
      ]
     },
     "metadata": {},
     "output_type": "display_data"
    }
   ],
   "source": [
    "# Plot curves\n",
    "pd.DataFrame(history.history).plot(figsize=(8, 5))\n",
    "plt.grid(True)\n",
    "plt.gca().set_ylim(0, 1)\n",
    "plt.show()"
   ]
  },
  {
   "cell_type": "code",
   "execution_count": 168,
   "id": "28ca4fca-8861-47a5-9ed8-ec09d91e8b08",
   "metadata": {},
   "outputs": [
    {
     "name": "stderr",
     "output_type": "stream",
     "text": [
      "C:\\Users\\leohj\\miniconda3\\envs\\ethics\\Lib\\site-packages\\keras\\src\\engine\\training.py:3103: UserWarning: You are saving your model as an HDF5 file via `model.save()`. This file format is considered legacy. We recommend using instead the native Keras format, e.g. `model.save('my_model.keras')`.\n",
      "  saving_api.save_model(\n"
     ]
    }
   ],
   "source": [
    "# Save model\n",
    "model.save(\"discriminator.h5\")"
   ]
  }
 ],
 "metadata": {
  "kernelspec": {
   "display_name": "Python 3 (ipykernel)",
   "language": "python",
   "name": "python3"
  },
  "language_info": {
   "codemirror_mode": {
    "name": "ipython",
    "version": 3
   },
   "file_extension": ".py",
   "mimetype": "text/x-python",
   "name": "python",
   "nbconvert_exporter": "python",
   "pygments_lexer": "ipython3",
   "version": "3.11.7"
  }
 },
 "nbformat": 4,
 "nbformat_minor": 5
}
