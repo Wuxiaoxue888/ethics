{
 "cells": [
  {
   "cell_type": "code",
   "execution_count": 1,
   "id": "644ed656-0639-4a64-b121-11cd3ec4cf56",
   "metadata": {
    "ExecuteTime": {
     "end_time": "2024-03-02T18:34:39.302015Z",
     "start_time": "2024-03-02T18:34:36.714536Z"
    }
   },
   "outputs": [],
   "source": [
    "import sys\n",
    "\n",
    "# Import\n",
    "import numpy as np\n",
    "import pandas as pd\n",
    "from matplotlib import pyplot as plt\n",
    "%matplotlib inline\n",
    "import tensorflow as tf\n",
    "from tensorflow import keras"
   ]
  },
  {
   "cell_type": "code",
   "execution_count": 2,
   "id": "21ca1aba-f802-44d4-a053-bd69b232e02c",
   "metadata": {
    "ExecuteTime": {
     "end_time": "2024-03-02T18:34:41.258166Z",
     "start_time": "2024-03-02T18:34:41.249296Z"
    }
   },
   "outputs": [],
   "source": [
    "# Set random seeds\n",
    "keras.backend.clear_session()\n",
    "np.random.seed(42)\n",
    "tf.random.set_seed(42)"
   ]
  },
  {
   "cell_type": "markdown",
   "id": "65ae89e8-8de3-4fe9-b9d1-853983692347",
   "metadata": {},
   "source": [
    "# Combine datasets"
   ]
  },
  {
   "cell_type": "code",
   "execution_count": 3,
   "id": "082fddfd-24d0-45bf-aa0b-d9217bc21f90",
   "metadata": {
    "ExecuteTime": {
     "end_time": "2024-03-02T18:34:44.121191Z",
     "start_time": "2024-03-02T18:34:42.859174Z"
    }
   },
   "outputs": [],
   "source": [
    "# Read the datasets\n",
    "real_images = pd.read_csv(\"real_images.csv\")\n",
    "fake_images = pd.read_csv(\"fake_images.csv\")\n",
    "#fake_images = pd.DataFrame(np.load(\"generated_images.npy\"))\n",
    "#fake_images.columns = fake_images.columns.astype(str)"
   ]
  },
  {
   "cell_type": "code",
   "execution_count": 4,
   "id": "3f2b389f-2778-4d4f-b803-e4747418b43d",
   "metadata": {
    "ExecuteTime": {
     "end_time": "2024-03-02T18:34:44.166620Z",
     "start_time": "2024-03-02T18:34:44.122082Z"
    }
   },
   "outputs": [],
   "source": [
    "# Normalize values between 0 and 1\n",
    "real_images /= 255.\n",
    "fake_images /= 255."
   ]
  },
  {
   "cell_type": "code",
   "execution_count": 5,
   "id": "e19d99aa-1ba3-4b1e-a7fd-c2e11dea104c",
   "metadata": {
    "ExecuteTime": {
     "end_time": "2024-03-02T18:34:44.171383Z",
     "start_time": "2024-03-02T18:34:44.166874Z"
    }
   },
   "outputs": [],
   "source": [
    "# Add label column\n",
    "real_images[\"label\"] = 1.0\n",
    "fake_images[\"label\"] = 0.0"
   ]
  },
  {
   "cell_type": "code",
   "execution_count": 6,
   "id": "59e87ea3-d0e0-4412-bc8a-359690cecc92",
   "metadata": {
    "ExecuteTime": {
     "end_time": "2024-03-02T18:34:44.203284Z",
     "start_time": "2024-03-02T18:34:44.172144Z"
    }
   },
   "outputs": [],
   "source": [
    "# Combine the two datasets\n",
    "images = pd.concat([real_images, fake_images], ignore_index=True)"
   ]
  },
  {
   "cell_type": "code",
   "execution_count": 7,
   "id": "7d03eb63-e940-431a-99f3-e842dd723fff",
   "metadata": {
    "ExecuteTime": {
     "end_time": "2024-03-02T18:34:44.489881Z",
     "start_time": "2024-03-02T18:34:44.204580Z"
    }
   },
   "outputs": [],
   "source": [
    "# Shuffle\n",
    "images = images.sample(frac=1).reset_index(drop=True)"
   ]
  },
  {
   "cell_type": "code",
   "execution_count": 8,
   "id": "b1a9e845-a1b7-4704-a303-ee91724fe4d3",
   "metadata": {
    "ExecuteTime": {
     "end_time": "2024-03-02T18:34:45.278444Z",
     "start_time": "2024-03-02T18:34:45.213379Z"
    }
   },
   "outputs": [],
   "source": [
    "# Split into training and test sets\n",
    "features = images.drop(\"label\", axis=1)\n",
    "labels = images[\"label\"]\n",
    "training_size = 20_000\n",
    "X_test, X_train = features[training_size:], features[:training_size]\n",
    "y_test, y_train = labels[training_size:], labels[:training_size]"
   ]
  },
  {
   "cell_type": "markdown",
   "id": "3633a72c-ded8-48a8-8895-7c5a908a661b",
   "metadata": {},
   "source": [
    "# Create discriminator models"
   ]
  },
  {
   "cell_type": "code",
   "execution_count": 9,
   "id": "42582972-7107-4b9e-b790-0133846a7f50",
   "metadata": {
    "ExecuteTime": {
     "end_time": "2024-03-02T18:34:46.510072Z",
     "start_time": "2024-03-02T18:34:46.502280Z"
    }
   },
   "outputs": [],
   "source": [
    "# Set random seeds again\n",
    "keras.backend.clear_session()\n",
    "np.random.seed(42)\n",
    "tf.random.set_seed(42)"
   ]
  },
  {
   "cell_type": "code",
   "execution_count": 10,
   "id": "a5930087-afbc-4a10-a71b-e9da9c3da3fa",
   "metadata": {
    "ExecuteTime": {
     "end_time": "2024-03-02T18:34:51.517452Z",
     "start_time": "2024-03-02T18:34:50.491012Z"
    }
   },
   "outputs": [],
   "source": [
    "# Create model\n",
    "model = keras.models.Sequential([\n",
    "    keras.layers.Input(shape=[784]),\n",
    "    keras.layers.Dense(1, activation=\"sigmoid\")\n",
    "])\n",
    "# Compile model\n",
    "model.compile(loss=\"binary_crossentropy\",\n",
    "              optimizer=\"sgd\",\n",
    "              metrics=[\"accuracy\"])\n",
    "# Train model\n",
    "history = model.fit(X_train, y_train, epochs=1,\n",
    "          validation_data=(X_test, y_test), verbose=None)"
   ]
  },
  {
   "cell_type": "code",
   "execution_count": 11,
   "id": "6bfd6c60-6e7f-474b-a165-9c222dcf00c5",
   "metadata": {
    "ExecuteTime": {
     "end_time": "2024-03-02T18:34:52.878227Z",
     "start_time": "2024-03-02T18:34:52.870715Z"
    }
   },
   "outputs": [
    {
     "name": "stdout",
     "output_type": "stream",
     "text": [
      "dict_keys(['loss', 'accuracy', 'val_loss', 'val_accuracy'])\n"
     ]
    }
   ],
   "source": [
    "print(history.history.keys())"
   ]
  },
  {
   "cell_type": "code",
   "execution_count": 12,
   "id": "2ee5f43d-db16-4774-b656-619c83cc65b5",
   "metadata": {
    "ExecuteTime": {
     "end_time": "2024-03-02T18:34:55.830145Z",
     "start_time": "2024-03-02T18:34:55.823721Z"
    }
   },
   "outputs": [
    {
     "name": "stdout",
     "output_type": "stream",
     "text": [
      "Validation accuracy 0.9990666508674622\n",
      "Training accuracy 0.9811999797821045\n"
     ]
    }
   ],
   "source": [
    "print(\"Validation accuracy\", history.history['val_accuracy'][0])\n",
    "print(\"Training accuracy\", history.history['accuracy'][0])"
   ]
  },
  {
   "cell_type": "code",
   "execution_count": 13,
   "id": "4f296de8-224d-4925-a244-d5165a670b87",
   "metadata": {
    "ExecuteTime": {
     "end_time": "2024-03-02T18:34:57.736537Z",
     "start_time": "2024-03-02T18:34:57.202975Z"
    }
   },
   "outputs": [
    {
     "data": {
      "text/plain": "[0.04236046224832535, 0.9990666508674622]"
     },
     "execution_count": 13,
     "metadata": {},
     "output_type": "execute_result"
    }
   ],
   "source": [
    "model.evaluate(X_test, y_test, verbose=None)"
   ]
  },
  {
   "cell_type": "markdown",
   "id": "55cc189d-006b-4048-839c-1e4fdf4d0565",
   "metadata": {},
   "source": [
    "# Create many models"
   ]
  },
  {
   "cell_type": "code",
   "execution_count": 14,
   "id": "c1552a9a-c8d8-4aa8-a948-c6fcf77cb9a2",
   "metadata": {
    "ExecuteTime": {
     "end_time": "2024-03-02T18:35:12.267480Z",
     "start_time": "2024-03-02T18:35:01.112751Z"
    }
   },
   "outputs": [
    {
     "name": "stdout",
     "output_type": "stream",
     "text": [
      "625/625 [==============================] - 1s 2ms/step - loss: 0.1004 - accuracy: 0.9791 - val_loss: 0.0195 - val_accuracy: 0.9998\n",
      " 54/625 [=>............................] - ETA: 0s - loss: 0.3763 - accuracy: 0.8663 "
     ]
    },
    {
     "name": "stderr",
     "output_type": "stream",
     "text": [
      "/Users/lukastoral/Code/Studying/ethics/venv/lib/python3.9/site-packages/keras/src/engine/training.py:3103: UserWarning: You are saving your model as an HDF5 file via `model.save()`. This file format is considered legacy. We recommend using instead the native Keras format, e.g. `model.save('my_model.keras')`.\n",
      "  saving_api.save_model(\n"
     ]
    },
    {
     "name": "stdout",
     "output_type": "stream",
     "text": [
      "625/625 [==============================] - 1s 2ms/step - loss: 0.0843 - accuracy: 0.9862 - val_loss: 0.0182 - val_accuracy: 0.9999\n",
      "  1/625 [..............................] - ETA: 56s - loss: 0.7397 - accuracy: 0.4062"
     ]
    },
    {
     "name": "stderr",
     "output_type": "stream",
     "text": [
      "/Users/lukastoral/Code/Studying/ethics/venv/lib/python3.9/site-packages/keras/src/engine/training.py:3103: UserWarning: You are saving your model as an HDF5 file via `model.save()`. This file format is considered legacy. We recommend using instead the native Keras format, e.g. `model.save('my_model.keras')`.\n",
      "  saving_api.save_model(\n"
     ]
    },
    {
     "name": "stdout",
     "output_type": "stream",
     "text": [
      "625/625 [==============================] - 1s 2ms/step - loss: 0.0848 - accuracy: 0.9859 - val_loss: 0.0180 - val_accuracy: 0.9999\n",
      "  1/625 [..............................] - ETA: 55s - loss: 0.6246 - accuracy: 0.7188"
     ]
    },
    {
     "name": "stderr",
     "output_type": "stream",
     "text": [
      "/Users/lukastoral/Code/Studying/ethics/venv/lib/python3.9/site-packages/keras/src/engine/training.py:3103: UserWarning: You are saving your model as an HDF5 file via `model.save()`. This file format is considered legacy. We recommend using instead the native Keras format, e.g. `model.save('my_model.keras')`.\n",
      "  saving_api.save_model(\n"
     ]
    },
    {
     "name": "stdout",
     "output_type": "stream",
     "text": [
      "625/625 [==============================] - 1s 2ms/step - loss: 0.0838 - accuracy: 0.9912 - val_loss: 0.0191 - val_accuracy: 0.9999\n",
      " 73/625 [==>...........................] - ETA: 0s - loss: 0.3536 - accuracy: 0.8741 "
     ]
    },
    {
     "name": "stderr",
     "output_type": "stream",
     "text": [
      "/Users/lukastoral/Code/Studying/ethics/venv/lib/python3.9/site-packages/keras/src/engine/training.py:3103: UserWarning: You are saving your model as an HDF5 file via `model.save()`. This file format is considered legacy. We recommend using instead the native Keras format, e.g. `model.save('my_model.keras')`.\n",
      "  saving_api.save_model(\n"
     ]
    },
    {
     "name": "stdout",
     "output_type": "stream",
     "text": [
      "625/625 [==============================] - 1s 1ms/step - loss: 0.0866 - accuracy: 0.9843 - val_loss: 0.0182 - val_accuracy: 0.9999\n",
      "  1/625 [..............................] - ETA: 54s - loss: 0.7344 - accuracy: 0.5000"
     ]
    },
    {
     "name": "stderr",
     "output_type": "stream",
     "text": [
      "/Users/lukastoral/Code/Studying/ethics/venv/lib/python3.9/site-packages/keras/src/engine/training.py:3103: UserWarning: You are saving your model as an HDF5 file via `model.save()`. This file format is considered legacy. We recommend using instead the native Keras format, e.g. `model.save('my_model.keras')`.\n",
      "  saving_api.save_model(\n"
     ]
    },
    {
     "name": "stdout",
     "output_type": "stream",
     "text": [
      "625/625 [==============================] - 1s 1ms/step - loss: 0.1017 - accuracy: 0.9754 - val_loss: 0.0203 - val_accuracy: 0.9999\n",
      "  1/625 [..............................] - ETA: 57s - loss: 0.7642 - accuracy: 0.5000"
     ]
    },
    {
     "name": "stderr",
     "output_type": "stream",
     "text": [
      "/Users/lukastoral/Code/Studying/ethics/venv/lib/python3.9/site-packages/keras/src/engine/training.py:3103: UserWarning: You are saving your model as an HDF5 file via `model.save()`. This file format is considered legacy. We recommend using instead the native Keras format, e.g. `model.save('my_model.keras')`.\n",
      "  saving_api.save_model(\n"
     ]
    },
    {
     "name": "stdout",
     "output_type": "stream",
     "text": [
      "625/625 [==============================] - 1s 1ms/step - loss: 0.0825 - accuracy: 0.9869 - val_loss: 0.0175 - val_accuracy: 0.9999\n",
      "  1/625 [..............................] - ETA: 54s - loss: 0.8118 - accuracy: 0.5312"
     ]
    },
    {
     "name": "stderr",
     "output_type": "stream",
     "text": [
      "/Users/lukastoral/Code/Studying/ethics/venv/lib/python3.9/site-packages/keras/src/engine/training.py:3103: UserWarning: You are saving your model as an HDF5 file via `model.save()`. This file format is considered legacy. We recommend using instead the native Keras format, e.g. `model.save('my_model.keras')`.\n",
      "  saving_api.save_model(\n"
     ]
    },
    {
     "name": "stdout",
     "output_type": "stream",
     "text": [
      "625/625 [==============================] - 1s 1ms/step - loss: 0.0840 - accuracy: 0.9863 - val_loss: 0.0187 - val_accuracy: 0.9997\n",
      " 78/625 [==>...........................] - ETA: 0s - loss: 0.3224 - accuracy: 0.8966 "
     ]
    },
    {
     "name": "stderr",
     "output_type": "stream",
     "text": [
      "/Users/lukastoral/Code/Studying/ethics/venv/lib/python3.9/site-packages/keras/src/engine/training.py:3103: UserWarning: You are saving your model as an HDF5 file via `model.save()`. This file format is considered legacy. We recommend using instead the native Keras format, e.g. `model.save('my_model.keras')`.\n",
      "  saving_api.save_model(\n"
     ]
    },
    {
     "name": "stdout",
     "output_type": "stream",
     "text": [
      "625/625 [==============================] - 1s 1ms/step - loss: 0.0813 - accuracy: 0.9862 - val_loss: 0.0174 - val_accuracy: 0.9999\n",
      "  1/625 [..............................] - ETA: 53s - loss: 0.5374 - accuracy: 0.8125"
     ]
    },
    {
     "name": "stderr",
     "output_type": "stream",
     "text": [
      "/Users/lukastoral/Code/Studying/ethics/venv/lib/python3.9/site-packages/keras/src/engine/training.py:3103: UserWarning: You are saving your model as an HDF5 file via `model.save()`. This file format is considered legacy. We recommend using instead the native Keras format, e.g. `model.save('my_model.keras')`.\n",
      "  saving_api.save_model(\n"
     ]
    },
    {
     "name": "stdout",
     "output_type": "stream",
     "text": [
      "625/625 [==============================] - 1s 1ms/step - loss: 0.0820 - accuracy: 0.9894 - val_loss: 0.0187 - val_accuracy: 0.9998\n"
     ]
    },
    {
     "name": "stderr",
     "output_type": "stream",
     "text": [
      "/Users/lukastoral/Code/Studying/ethics/venv/lib/python3.9/site-packages/keras/src/engine/training.py:3103: UserWarning: You are saving your model as an HDF5 file via `model.save()`. This file format is considered legacy. We recommend using instead the native Keras format, e.g. `model.save('my_model.keras')`.\n",
      "  saving_api.save_model(\n"
     ]
    }
   ],
   "source": [
    "if sys.platform.startswith('darwin'):\n",
    "    optimizer = tf.keras.optimizers.legacy.SGD\n",
    "else:\n",
    "    optimizer = \"sgd\"\n",
    "\n",
    "for i in range(10):\n",
    "    # Create model\n",
    "    model = keras.models.Sequential([\n",
    "        keras.layers.Input(shape=[784]),\n",
    "        keras.layers.Dense(100, activation=\"relu\"),\n",
    "        keras.layers.Dense(1, activation=\"sigmoid\")\n",
    "    ])\n",
    "    # Compile model\n",
    "    model.compile(loss=\"binary_crossentropy\",\n",
    "                  optimizer=\"sgd\",\n",
    "                  metrics=[\"accuracy\"])\n",
    "    # Train model\n",
    "    model.fit(X_train, y_train, epochs=1,\n",
    "              validation_data=(X_test, y_test))\n",
    "    # Save model\n",
    "    model.save(f\"discriminator_models/discriminator_{i+1}.h5\")"
   ]
  },
  {
   "cell_type": "code",
   "execution_count": null,
   "id": "3d3838b8-8a05-43d8-befd-f1a6b6f55f07",
   "metadata": {},
   "outputs": [],
   "source": []
  }
 ],
 "metadata": {
  "kernelspec": {
   "display_name": "Python 3 (ipykernel)",
   "language": "python",
   "name": "python3"
  },
  "language_info": {
   "codemirror_mode": {
    "name": "ipython",
    "version": 3
   },
   "file_extension": ".py",
   "mimetype": "text/x-python",
   "name": "python",
   "nbconvert_exporter": "python",
   "pygments_lexer": "ipython3",
   "version": "3.11.7"
  }
 },
 "nbformat": 4,
 "nbformat_minor": 5
}
