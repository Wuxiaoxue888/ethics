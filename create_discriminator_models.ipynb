{
 "cells": [
  {
   "cell_type": "code",
   "execution_count": 24,
   "id": "644ed656-0639-4a64-b121-11cd3ec4cf56",
   "metadata": {
    "ExecuteTime": {
     "end_time": "2024-03-03T15:44:48.863317Z",
     "start_time": "2024-03-03T15:44:48.859772Z"
    }
   },
   "outputs": [],
   "source": [
    "import sys\n",
    "\n",
    "# Import\n",
    "import numpy as np\n",
    "import pandas as pd\n",
    "from keras.src.callbacks import EarlyStopping\n",
    "from matplotlib import pyplot as plt\n",
    "%matplotlib inline\n",
    "import tensorflow as tf\n",
    "from tensorflow import keras"
   ]
  },
  {
   "cell_type": "code",
   "execution_count": 25,
   "id": "21ca1aba-f802-44d4-a053-bd69b232e02c",
   "metadata": {
    "ExecuteTime": {
     "end_time": "2024-03-03T15:44:49.089563Z",
     "start_time": "2024-03-03T15:44:49.032344Z"
    }
   },
   "outputs": [],
   "source": [
    "# Set random seeds\n",
    "keras.backend.clear_session()\n",
    "np.random.seed(42)\n",
    "tf.random.set_seed(42)"
   ]
  },
  {
   "cell_type": "markdown",
   "id": "65ae89e8-8de3-4fe9-b9d1-853983692347",
   "metadata": {},
   "source": [
    "# Combine datasets"
   ]
  },
  {
   "cell_type": "code",
   "execution_count": 26,
   "id": "082fddfd-24d0-45bf-aa0b-d9217bc21f90",
   "metadata": {
    "ExecuteTime": {
     "end_time": "2024-03-03T15:44:50.582956Z",
     "start_time": "2024-03-03T15:44:49.369368Z"
    }
   },
   "outputs": [],
   "source": [
    "# Read the datasets\n",
    "real_images = pd.read_csv(\"real_images.csv\")\n",
    "fake_images = pd.read_csv(\"fake_images.csv\")"
   ]
  },
  {
   "cell_type": "code",
   "execution_count": 27,
   "id": "3f2b389f-2778-4d4f-b803-e4747418b43d",
   "metadata": {
    "ExecuteTime": {
     "end_time": "2024-03-03T15:44:50.661437Z",
     "start_time": "2024-03-03T15:44:50.583647Z"
    }
   },
   "outputs": [],
   "source": [
    "# Normalize values between 0 and 1\n",
    "real_images /= 255.\n",
    "fake_images /= 255."
   ]
  },
  {
   "cell_type": "code",
   "execution_count": 28,
   "id": "e19d99aa-1ba3-4b1e-a7fd-c2e11dea104c",
   "metadata": {
    "ExecuteTime": {
     "end_time": "2024-03-03T15:44:50.665838Z",
     "start_time": "2024-03-03T15:44:50.662893Z"
    }
   },
   "outputs": [],
   "source": [
    "# Add label column\n",
    "real_images[\"label\"] = 1.0\n",
    "fake_images[\"label\"] = 0.0"
   ]
  },
  {
   "cell_type": "code",
   "execution_count": 29,
   "id": "59e87ea3-d0e0-4412-bc8a-359690cecc92",
   "metadata": {
    "ExecuteTime": {
     "end_time": "2024-03-03T15:44:51.301361Z",
     "start_time": "2024-03-03T15:44:51.213115Z"
    }
   },
   "outputs": [],
   "source": [
    "# Combine the two datasets\n",
    "images = pd.concat([real_images, fake_images], ignore_index=True)"
   ]
  },
  {
   "cell_type": "code",
   "execution_count": 30,
   "id": "7d03eb63-e940-431a-99f3-e842dd723fff",
   "metadata": {
    "ExecuteTime": {
     "end_time": "2024-03-03T15:44:52.434269Z",
     "start_time": "2024-03-03T15:44:51.918918Z"
    }
   },
   "outputs": [],
   "source": [
    "# Shuffle\n",
    "images = images.sample(frac=1).reset_index(drop=True)"
   ]
  },
  {
   "cell_type": "code",
   "execution_count": 31,
   "id": "b1a9e845-a1b7-4704-a303-ee91724fe4d3",
   "metadata": {
    "ExecuteTime": {
     "end_time": "2024-03-03T15:44:52.481659Z",
     "start_time": "2024-03-03T15:44:52.432203Z"
    }
   },
   "outputs": [],
   "source": [
    "# Split into training and test sets\n",
    "features = images.drop(\"label\", axis=1)\n",
    "labels = images[\"label\"]"
   ]
  },
  {
   "cell_type": "markdown",
   "id": "3633a72c-ded8-48a8-8895-7c5a908a661b",
   "metadata": {},
   "source": [
    "# Create discriminator models"
   ]
  },
  {
   "cell_type": "code",
   "execution_count": 34,
   "id": "c1552a9a-c8d8-4aa8-a948-c6fcf77cb9a2",
   "metadata": {
    "ExecuteTime": {
     "end_time": "2024-03-03T15:46:13.825285Z",
     "start_time": "2024-03-03T15:46:08.579565Z"
    }
   },
   "outputs": [
    {
     "name": "stdout",
     "output_type": "stream",
     "text": [
      "0\n",
      "Epoch 1/5\n",
      "63/63 [==============================] - 0s 2ms/step - loss: 0.4875 - accuracy: 0.9655 - val_loss: 0.3870 - val_accuracy: 1.0000\n",
      "Epoch 2/5\n",
      "63/63 [==============================] - 0s 935us/step - loss: 0.3499 - accuracy: 1.0000 - val_loss: 0.3130 - val_accuracy: 1.0000\n",
      "Epoch 3/5\n",
      "63/63 [==============================] - 0s 884us/step - loss: 0.2923 - accuracy: 1.0000 - val_loss: 0.2658 - val_accuracy: 1.0000\n",
      "Epoch 4/5\n",
      "63/63 [==============================] - 0s 900us/step - loss: 0.2510 - accuracy: 1.0000 - val_loss: 0.2293 - val_accuracy: 1.0000\n",
      "Epoch 5/5\n",
      "63/63 [==============================] - 0s 877us/step - loss: 0.2177 - accuracy: 1.0000 - val_loss: 0.1993 - val_accuracy: 1.0000\n",
      "1\n",
      "Epoch 1/5\n",
      "63/63 [==============================] - 0s 2ms/step - loss: 0.5093 - accuracy: 0.9265 - val_loss: 0.4253 - val_accuracy: 1.0000\n",
      "Epoch 2/5\n",
      "63/63 [==============================] - 0s 951us/step - loss: 0.3629 - accuracy: 1.0000 - val_loss: 0.3504 - val_accuracy: 1.0000\n",
      "Epoch 3/5\n",
      "63/63 [==============================] - 0s 888us/step - loss: 0.3041 - accuracy: 1.0000 - val_loss: 0.3022 - val_accuracy: 1.0000\n",
      "Epoch 4/5\n",
      "63/63 [==============================] - 0s 887us/step - loss: 0.2631 - accuracy: 1.0000 - val_loss: 0.2642 - val_accuracy: 1.0000\n",
      "Epoch 5/5\n",
      "63/63 [==============================] - 0s 883us/step - loss: 0.2302 - accuracy: 1.0000 - val_loss: 0.2325 - val_accuracy: 1.0000\n",
      "2\n",
      "Epoch 1/5\n",
      "63/63 [==============================] - 0s 2ms/step - loss: 0.5034 - accuracy: 0.9450 - val_loss: 0.3810 - val_accuracy: 1.0000\n",
      "Epoch 2/5\n",
      "63/63 [==============================] - 0s 1ms/step - loss: 0.3487 - accuracy: 1.0000 - val_loss: 0.3033 - val_accuracy: 1.0000\n",
      "Epoch 3/5\n",
      "63/63 [==============================] - 0s 948us/step - loss: 0.2862 - accuracy: 1.0000 - val_loss: 0.2536 - val_accuracy: 1.0000\n",
      "Epoch 4/5\n",
      "63/63 [==============================] - 0s 943us/step - loss: 0.2416 - accuracy: 1.0000 - val_loss: 0.2156 - val_accuracy: 1.0000\n",
      "Epoch 5/5\n",
      "63/63 [==============================] - 0s 938us/step - loss: 0.2062 - accuracy: 1.0000 - val_loss: 0.1848 - val_accuracy: 1.0000\n",
      "3\n",
      "Epoch 1/5\n",
      "63/63 [==============================] - 0s 2ms/step - loss: 0.5203 - accuracy: 0.8195 - val_loss: 0.3988 - val_accuracy: 1.0000\n",
      "Epoch 2/5\n",
      "63/63 [==============================] - 0s 918us/step - loss: 0.3571 - accuracy: 1.0000 - val_loss: 0.3287 - val_accuracy: 1.0000\n",
      "Epoch 3/5\n",
      "63/63 [==============================] - 0s 917us/step - loss: 0.3042 - accuracy: 1.0000 - val_loss: 0.2858 - val_accuracy: 1.0000\n",
      "Epoch 4/5\n",
      "63/63 [==============================] - 0s 917us/step - loss: 0.2668 - accuracy: 1.0000 - val_loss: 0.2521 - val_accuracy: 1.0000\n",
      "Epoch 5/5\n",
      "63/63 [==============================] - 0s 897us/step - loss: 0.2364 - accuracy: 1.0000 - val_loss: 0.2241 - val_accuracy: 1.0000\n",
      "4\n",
      "Epoch 1/5\n",
      "63/63 [==============================] - 0s 2ms/step - loss: 0.5425 - accuracy: 0.8195 - val_loss: 0.3952 - val_accuracy: 1.0000\n",
      "Epoch 2/5\n",
      "63/63 [==============================] - 0s 909us/step - loss: 0.3531 - accuracy: 1.0000 - val_loss: 0.3136 - val_accuracy: 1.0000\n",
      "Epoch 3/5\n",
      "63/63 [==============================] - 0s 873us/step - loss: 0.2902 - accuracy: 1.0000 - val_loss: 0.2647 - val_accuracy: 1.0000\n",
      "Epoch 4/5\n",
      "63/63 [==============================] - 0s 880us/step - loss: 0.2471 - accuracy: 1.0000 - val_loss: 0.2275 - val_accuracy: 1.0000\n",
      "Epoch 5/5\n",
      "63/63 [==============================] - 0s 897us/step - loss: 0.2131 - accuracy: 1.0000 - val_loss: 0.1972 - val_accuracy: 1.0000\n",
      "5\n",
      "Epoch 1/5\n",
      "63/63 [==============================] - 0s 2ms/step - loss: 0.5388 - accuracy: 0.8735 - val_loss: 0.4097 - val_accuracy: 0.9980\n",
      "Epoch 2/5\n",
      "63/63 [==============================] - 0s 980us/step - loss: 0.3664 - accuracy: 0.9995 - val_loss: 0.3312 - val_accuracy: 0.9980\n",
      "Epoch 3/5\n",
      "63/63 [==============================] - 0s 947us/step - loss: 0.3054 - accuracy: 1.0000 - val_loss: 0.2822 - val_accuracy: 1.0000\n",
      "Epoch 4/5\n",
      "63/63 [==============================] - 0s 951us/step - loss: 0.2623 - accuracy: 1.0000 - val_loss: 0.2442 - val_accuracy: 1.0000\n",
      "Epoch 5/5\n",
      "63/63 [==============================] - 0s 929us/step - loss: 0.2278 - accuracy: 1.0000 - val_loss: 0.2130 - val_accuracy: 1.0000\n",
      "6\n",
      "Epoch 1/5\n",
      "63/63 [==============================] - 0s 2ms/step - loss: 0.4784 - accuracy: 0.9645 - val_loss: 0.3886 - val_accuracy: 1.0000\n",
      "Epoch 2/5\n",
      "63/63 [==============================] - 0s 916us/step - loss: 0.3338 - accuracy: 1.0000 - val_loss: 0.3148 - val_accuracy: 1.0000\n",
      "Epoch 3/5\n",
      "63/63 [==============================] - 0s 897us/step - loss: 0.2765 - accuracy: 1.0000 - val_loss: 0.2659 - val_accuracy: 1.0000\n",
      "Epoch 4/5\n",
      "63/63 [==============================] - 0s 867us/step - loss: 0.2352 - accuracy: 1.0000 - val_loss: 0.2280 - val_accuracy: 1.0000\n",
      "Epoch 5/5\n",
      "63/63 [==============================] - 0s 888us/step - loss: 0.2024 - accuracy: 1.0000 - val_loss: 0.1968 - val_accuracy: 1.0000\n",
      "7\n",
      "Epoch 1/5\n",
      "63/63 [==============================] - 0s 2ms/step - loss: 0.4890 - accuracy: 0.9580 - val_loss: 0.3747 - val_accuracy: 1.0000\n",
      "Epoch 2/5\n",
      "63/63 [==============================] - 0s 921us/step - loss: 0.3489 - accuracy: 1.0000 - val_loss: 0.2986 - val_accuracy: 1.0000\n",
      "Epoch 3/5\n",
      "63/63 [==============================] - 0s 907us/step - loss: 0.2887 - accuracy: 1.0000 - val_loss: 0.2514 - val_accuracy: 1.0000\n",
      "Epoch 4/5\n",
      "63/63 [==============================] - 0s 893us/step - loss: 0.2457 - accuracy: 1.0000 - val_loss: 0.2153 - val_accuracy: 1.0000\n",
      "Epoch 5/5\n",
      "63/63 [==============================] - 0s 919us/step - loss: 0.2114 - accuracy: 1.0000 - val_loss: 0.1859 - val_accuracy: 1.0000\n",
      "8\n",
      "Epoch 1/5\n",
      "63/63 [==============================] - 0s 2ms/step - loss: 0.4769 - accuracy: 0.9310 - val_loss: 0.3897 - val_accuracy: 1.0000\n",
      "Epoch 2/5\n",
      "63/63 [==============================] - 0s 926us/step - loss: 0.3414 - accuracy: 0.9995 - val_loss: 0.3227 - val_accuracy: 1.0000\n",
      "Epoch 3/5\n",
      "63/63 [==============================] - 0s 926us/step - loss: 0.2882 - accuracy: 0.9995 - val_loss: 0.2782 - val_accuracy: 1.0000\n",
      "Epoch 4/5\n",
      "63/63 [==============================] - 0s 934us/step - loss: 0.2497 - accuracy: 1.0000 - val_loss: 0.2428 - val_accuracy: 1.0000\n",
      "Epoch 5/5\n",
      "63/63 [==============================] - 0s 909us/step - loss: 0.2185 - accuracy: 1.0000 - val_loss: 0.2133 - val_accuracy: 1.0000\n",
      "9\n",
      "Epoch 1/5\n",
      "63/63 [==============================] - 0s 2ms/step - loss: 0.5017 - accuracy: 0.9545 - val_loss: 0.4033 - val_accuracy: 1.0000\n",
      "Epoch 2/5\n",
      "63/63 [==============================] - 0s 895us/step - loss: 0.3552 - accuracy: 1.0000 - val_loss: 0.3236 - val_accuracy: 1.0000\n",
      "Epoch 3/5\n",
      "63/63 [==============================] - 0s 885us/step - loss: 0.2920 - accuracy: 1.0000 - val_loss: 0.2721 - val_accuracy: 1.0000\n",
      "Epoch 4/5\n",
      "63/63 [==============================] - 0s 873us/step - loss: 0.2473 - accuracy: 1.0000 - val_loss: 0.2324 - val_accuracy: 1.0000\n",
      "Epoch 5/5\n",
      "63/63 [==============================] - 0s 901us/step - loss: 0.2119 - accuracy: 1.0000 - val_loss: 0.2000 - val_accuracy: 1.0000\n"
     ]
    }
   ],
   "source": [
    "if sys.platform.startswith('darwin'):\n",
    "    optimizer = tf.keras.optimizers.legacy.SGD\n",
    "else:\n",
    "    optimizer = \"sgd\"\n",
    "    \n",
    "TOTAL_MODELS = 10\n",
    "TRAINING_SIZE = 20_000\n",
    "TEST_SIZE = 5_000\n",
    "MODEL_TRAINING_SIZE = int(TRAINING_SIZE / TOTAL_MODELS)\n",
    "MODEL_TEST_SIZE = int(TEST_SIZE / TOTAL_MODELS)\n",
    "\n",
    "x_test, x_train = features[TRAINING_SIZE:], features[:TRAINING_SIZE]\n",
    "y_test, y_train = labels[TRAINING_SIZE:], labels[:TRAINING_SIZE]\n",
    "\n",
    "for i in range(TOTAL_MODELS):\n",
    "    print(i)\n",
    "    # create training and test set for the model\n",
    "    start_idx = i * MODEL_TRAINING_SIZE\n",
    "    end_idx = (i + 1) * MODEL_TRAINING_SIZE\n",
    "\n",
    "    m_x_test = features[end_idx:end_idx + MODEL_TEST_SIZE]\n",
    "    m_x_train = features[start_idx:end_idx]\n",
    "\n",
    "    m_y_test = labels[end_idx:end_idx + MODEL_TEST_SIZE]\n",
    "    m_y_train = labels[start_idx:end_idx]\n",
    "    # Create model\n",
    "    model = keras.models.Sequential([\n",
    "        keras.layers.Input(shape=[784]),\n",
    "        keras.layers.Dense(100, activation=\"relu\"),\n",
    "        keras.layers.Dense(1, activation=\"sigmoid\")\n",
    "    ])\n",
    "    # Compile model\n",
    "    model.compile(loss=\"binary_crossentropy\",\n",
    "                  optimizer=\"sgd\",\n",
    "                  metrics=[\"accuracy\"])\n",
    "    \n",
    "    early_stopping = EarlyStopping(monitor='val_loss', patience=3, restore_best_weights=True)\n",
    "    \n",
    "    # Train model\n",
    "    model.fit(m_x_train, m_y_train, epochs=5,\n",
    "              validation_data=(m_x_test, m_y_test))\n",
    "    # Save model\n",
    "    model.save(f\"discriminator_models/discriminator_{i+1}.keras\")"
   ]
  },
  {
   "cell_type": "code",
   "execution_count": null,
   "id": "3d3838b8-8a05-43d8-befd-f1a6b6f55f07",
   "metadata": {},
   "outputs": [],
   "source": []
  }
 ],
 "metadata": {
  "kernelspec": {
   "display_name": "Python 3 (ipykernel)",
   "language": "python",
   "name": "python3"
  },
  "language_info": {
   "codemirror_mode": {
    "name": "ipython",
    "version": 3
   },
   "file_extension": ".py",
   "mimetype": "text/x-python",
   "name": "python",
   "nbconvert_exporter": "python",
   "pygments_lexer": "ipython3",
   "version": "3.11.7"
  }
 },
 "nbformat": 4,
 "nbformat_minor": 5
}
